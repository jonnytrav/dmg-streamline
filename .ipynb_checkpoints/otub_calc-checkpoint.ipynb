{
 "cells": [
  {
   "cell_type": "code",
   "execution_count": 25,
   "id": "3c6117d3",
   "metadata": {},
   "outputs": [],
   "source": [
    "import pandas as pd\n",
    "import xlwings as xw"
   ]
  },
  {
   "cell_type": "code",
   "execution_count": 26,
   "id": "406328a9",
   "metadata": {},
   "outputs": [],
   "source": [
    "def get_data_with_xlwings(file_name, sheet_name):\n",
    "    wb = xw.Book(file_name)\n",
    "    sheet = wb.sheets[sheet_name]\n",
    "    data = sheet.range('A1').options(pd.DataFrame, expand='table').value\n",
    "    wb.close()\n",
    "    return data"
   ]
  },
  {
   "cell_type": "code",
   "execution_count": 27,
   "id": "4a906f82",
   "metadata": {},
   "outputs": [],
   "source": [
    "def process_data(data):\n",
    "    #     CREATE ONE FOR GROUND\n",
    "    service_type_to_sheet_name = {\n",
    "        \"FedEx First Overnight\": \"FedEx First Overnight®\",\n",
    "        \"FedEx Priority Overnight\": \"FedEx Priority Overnight®\",\n",
    "        \"FedEx Standard Overnight\": \"FedEx Standard Overnight®\",\n",
    "        \"FedEx 2Day A.M.\": \"FedEx 2Day® A.M.\",\n",
    "        \"FedEx 2Day\": \"FedEx 2Day®\",\n",
    "        \"FedEx Express Saver\": \"FedEx Express Saver®\",\n",
    "        \"Intra-Hawaii Standard List Rates\": \"Intra-Hawaii Standard List Rate\",\n",
    "#         BEGIN FREIGHT PRICING MATRIX SECTION\n",
    "        \"FedEx First Overnight Freight\": \"FedEx First Overnight® Freight\",\n",
    "        \"FedEx 1Day Freight\": \"FedEx 1Day® Freight\",\n",
    "        \"FedEx 2Day Freight\": \"FedEx 2Day® Freight\",\n",
    "        \"FedEx 3Day Freight\": \"FedEx 3Day® Freight\",\n",
    "    }\n",
    "    mw_service_type_to_sheet_name = {\n",
    "        \"FedEx First Overnight\": \"MW FedEx First Overnight®\",\n",
    "        \"FedEx Priority Overnight\": \"MW FedEx Priority Overnight®\",\n",
    "        \"FedEx Standard Overnight\": \"MW FedEx Standard Overnight®\",\n",
    "        \"FedEx 2Day A.M.\": \"MW FedEx 2Day® A.M.\",\n",
    "        \"FedEx 2Day\": \"MW FedEx 2Day®\",\n",
    "        \"FedEx Express Saver\": \"MW FedEx Express Saver®\",\n",
    "        \"Intra-Hawaii FedEx Priority Overnight\": \"MWIntra-HawaiiFedExPriorityON\",\n",
    "    }\n",
    "    \n",
    "    rates_wb = xw.Book(\"./separated_us_express_rates.xlsx\")\n",
    "    rate_sheets = rates_wb.sheets\n",
    "    \n",
    "    for index, row in data.iterrows():\n",
    "#         'index' CANNOT BE USED - ITS AN INVOICE NUMBER THAT REPEATS AND INDICES !ACCURATE\n",
    "#         CONVERTING WEIGHT & ZONE VALUES BELOW TO INTS TO LATER COMBINE AND USE AS COORDINATES\n",
    "        weight = int(row['RW'])\n",
    "        zone = int(row['Z'])\n",
    "        service_type = row['Service Type']\n",
    "        otpub = row['OTPUB']\n",
    "        if service_type in service_type_to_sheet_name:\n",
    "#             BELOW GETS CORRECT PRICING SPREADSHEET AND CONVERTS TO A DATAFRAME\n",
    "            pricing_matrix_data = rate_sheets[service_type_to_sheet_name[service_type]].range(\"A1\").options(pd.DataFrame, expand='table').value\n",
    "#             THE NEXT TWO LINES SHOULD BE THE SAME\n",
    "#             print(f'Found in pricing_matrix_data using RW and zone => {pricing_matrix_data.iloc[weight, zone-2]}')\n",
    "#             print('OTPUB value that was previously calculated w/o the use of these functions => {otpub}')\n",
    "        elif service_type == \"Ground\":\n",
    "#             DEVELOP A WAY TO HANDLE GROUND SHIPMENTS\n",
    "            pass\n",
    "#             BELOW CHANGES CELL TO COLOR RED TO EASILY LOCATE CELLS WE COULDN'T POPULATE\n",
    "#             otpub.color = (255, 0, 0)  # RGB color for red\n",
    "        else:\n",
    "#             BELOW PRINTS ANY SERVICE TYPE FOR WHICH WE MAY HAVE NOT HAVE ANY HANDLING \n",
    "            print(service_type)\n",
    "    \n",
    "#     IF NOTHING PRINTS, THE ENTIRE CHARGES SHEET WAS PROCESSED AND ALL SERVICE TYPES THAT APPEARED WERE ADDRESSED\n",
    "        \n",
    "    rates_wb.close()\n",
    "    return data"
   ]
  },
  {
   "cell_type": "code",
   "execution_count": 28,
   "id": "891c4997",
   "metadata": {},
   "outputs": [],
   "source": [
    "def save_results_with_xlwings(data, file_name, sheet_name):\n",
    "    print(data)\n",
    "#     wb = xw.Book(file_name)\n",
    "#     ws = wb.sheets[sheet_name]\n",
    "#     ws.range('A1').options(index=False).value = data\n",
    "#     wb.save()\n",
    "#     wb.close()"
   ]
  },
  {
   "cell_type": "code",
   "execution_count": 29,
   "id": "df464c33",
   "metadata": {
    "scrolled": false
   },
   "outputs": [],
   "source": [
    "#BEGIN MAIN SCRIPT USING ABOVE FUNCTIONS\n",
    "file_name = './charges.xlsm'\n",
    "spreadsheet_name = 'FREIGHT & ACCESSORIALS'\n",
    "sheet_data = get_data_with_xlwings(file_name, spreadsheet_name)\n",
    "processed_data = process_data(sheet_data)\n",
    "# print(processed_data['OTPUB'])\n",
    "# save_results_with_xlwings(processed_data, file_name, spreadsheet_name)"
   ]
  },
  {
   "cell_type": "code",
   "execution_count": null,
   "id": "18e8aaec",
   "metadata": {},
   "outputs": [],
   "source": []
  },
  {
   "cell_type": "code",
   "execution_count": null,
   "id": "2808182e",
   "metadata": {},
   "outputs": [],
   "source": []
  }
 ],
 "metadata": {
  "kernelspec": {
   "display_name": "Python 3 (ipykernel)",
   "language": "python",
   "name": "python3"
  },
  "language_info": {
   "codemirror_mode": {
    "name": "ipython",
    "version": 3
   },
   "file_extension": ".py",
   "mimetype": "text/x-python",
   "name": "python",
   "nbconvert_exporter": "python",
   "pygments_lexer": "ipython3",
   "version": "3.11.5"
  }
 },
 "nbformat": 4,
 "nbformat_minor": 5
}
