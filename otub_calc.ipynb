{
 "cells": [
  {
   "cell_type": "code",
   "execution_count": 9,
   "id": "3c6117d3",
   "metadata": {},
   "outputs": [],
   "source": [
    "import pandas as pd\n",
    "import xlwings as xw"
   ]
  },
  {
   "cell_type": "code",
   "execution_count": 10,
   "id": "406328a9",
   "metadata": {},
   "outputs": [],
   "source": [
    "def get_data_with_xlwings(file_name, sheet_name):\n",
    "    wb = xw.Book(file_name)\n",
    "    sheet = wb.sheets[sheet_name]\n",
    "    data = sheet.range('A1').options(pd.DataFrame, expand='table').value\n",
    "    wb.close()\n",
    "    return data"
   ]
  },
  {
   "cell_type": "code",
   "execution_count": 122,
   "id": "82cdc3f2",
   "metadata": {},
   "outputs": [],
   "source": [
    "def load_all_pricing_matrices():\n",
    "    service_types = [\n",
    "        \"FHD Ground\",\n",
    "        \"FHD Ground Canada\",\n",
    "        \"FedEx First Overnight\",\n",
    "        \"FedEx Priority Overnight\",\n",
    "        \"FedEx Standard Overnight\",\n",
    "        \"FedEx 2Day A.M.\",\n",
    "        \"FedEx 2Day\",\n",
    "        \"FedEx Express Saver\",\n",
    "        \"Intra-Hawaii Standard List Rate\"\n",
    "    ]\n",
    "    \n",
    "    mw_service_types = [\n",
    "        \"FHD Ground\",\n",
    "        \"FHD Ground Canada\",\n",
    "        \"FedEx First Overnight\",\n",
    "        \"FedEx Priority Overnight\",\n",
    "        \"FedEx Standard Overnight\",\n",
    "        \"FedEx 2Day A.M.\",\n",
    "        \"FedEx 2Day\",\n",
    "        \"FedEx Express Saver\",\n",
    "        \"Intra-Hawaii Standard List Rate\"\n",
    "    ]\n",
    "    \n",
    "    freight_service_types = [\n",
    "        \"FedEx First Overnight Freight\",\n",
    "        \"FedEx 1Day Freight\",\n",
    "        \"FedEx 2Day Freight\",\n",
    "        \"FedEx 3Day Freight\"\n",
    "    ]\n",
    "    \n",
    "    pricing_matrices = {}\n",
    "    all_sheets = pd.read_excel(\"./separated_us_express_rates.xlsx\", sheet_name=None)\n",
    "    \n",
    "    for service_type in service_types:\n",
    "        pricing_matrices[service_type] = all_sheets[service_type]\n",
    "        \n",
    "    for service_type in mw_service_types:\n",
    "        pricing_matrices[service_type] = all_sheets[service_type]\n",
    "        \n",
    "    for service_type in freight_service_types:\n",
    "        pricing_matrices[service_type] = all_sheets[service_type]\n",
    "\n",
    "    return pricing_matrices"
   ]
  },
  {
   "cell_type": "code",
   "execution_count": 152,
   "id": "4a906f82",
   "metadata": {},
   "outputs": [],
   "source": [
    "def process_data(data):\n",
    "#     ENSURE HANDLING EXISTS FOR FedEx® Pak AND FedEx® Envelope up to 8 oz.\n",
    "#     MAY NEED TO SEPARATE PRICING FOR ZONES LISTED AS 9-10 AND 11-12 FOR SIMPLICITY OF CALC.\n",
    "    pricing_matrices = load_all_pricing_matrices()\n",
    "        \n",
    "    for index, row in data.iterrows():\n",
    "#         'index' CANNOT BE USED - ITS AN INVOICE NUMBER THAT REPEATS AND INDICES !ACCURATE\n",
    "        weight = int(row['RW'])\n",
    "        zone = int(row['Z'])\n",
    "        service_type = row['Service Type']\n",
    "        otpub = row['OTPUB']\n",
    "        \n",
    "        if service_type in pricing_matrices:\n",
    "                pricing_matrix_data = pricing_matrices[service_type]\n",
    "                new_otpub = pricing_matrix_data.iloc[weight-1, zone-2]\n",
    "                otpub = new_otpub\n",
    "                \n",
    "        elif service_type == \"Ground\":\n",
    "            if row[\"Recipient Country/Territory\"] != \"US\":\n",
    "                pricing_matrix_data = pricing_matrices[\"FHD Ground Canada\"]\n",
    "                new_otpub = pricing_matrix_data.iloc[weight-1, zone-2]\n",
    "                otpub = new_otpub\n",
    "            else:\n",
    "#                     pricing_matrix_data = rates_wb.sheets[\"FHD Ground\"].range(\"A1\").options(pd.DataFrame, expand='table').value\n",
    "                pricing_matrix_data = pricing_matrices[\"FHD Ground\"]\n",
    "                new_otpub = pricing_matrix_data.iloc[weight-1, zone-1]\n",
    "                print(new_otpub)\n",
    "                otpub = new_otpub\n",
    "        else:\n",
    "#             BELOW PRINTS ANY SERVICE TYPE FOR WHICH WE MAY HAVE NOT HAVE ANY HANDLING \n",
    "            print(f'{service_type} not addressed!')\n",
    "#             BELOW CHANGES CELL TO COLOR RED TO EASILY LOCATE CELLS WE COULDN'T POPULATE\n",
    "            otpub.color = (255, 0, 0)\n",
    "    \n",
    "#     AT THIS POINT, THE DATA MANIPULATED IS SIMPLY AN INSTANCE AND LATER WE MUST USE save_results_with_xlwings() FOR THE DATA\n",
    "#     TO PERSIST IN THE WORKBOOK\n",
    "    return data"
   ]
  },
  {
   "cell_type": "code",
   "execution_count": 153,
   "id": "891c4997",
   "metadata": {},
   "outputs": [],
   "source": [
    "def save_results_with_xlwings(data, file_name, sheet_name):\n",
    "    print(data)\n",
    "#     wb = xw.Book(file_name)\n",
    "#     ws = wb.sheets[sheet_name]\n",
    "#     ws.range('A1').options(index=False).value = data\n",
    "#     wb.save()\n",
    "#     wb.close()"
   ]
  },
  {
   "cell_type": "code",
   "execution_count": 154,
   "id": "df464c33",
   "metadata": {
    "scrolled": true
   },
   "outputs": [
    {
     "name": "stdout",
     "output_type": "stream",
     "text": [
      "16.52\n",
      "17.13\n",
      "16.39\n",
      "17.12\n",
      "17.13\n",
      "17.12\n",
      "17.86\n",
      "20.47\n",
      "17.12\n",
      "20\n",
      "21.61\n",
      "18.51\n",
      "15.09\n",
      "21.61\n",
      "20.56\n",
      "17.13\n",
      "17.12\n",
      "17.12\n",
      "17.13\n",
      "20.48\n"
     ]
    }
   ],
   "source": [
    "#BEGIN MAIN SCRIPT USING ABOVE FUNCTIONS\n",
    "file_name = './charges.xlsm'\n",
    "spreadsheet_name = 'FREIGHT & ACCESSORIALS'\n",
    "sheet_data = get_data_with_xlwings(file_name, spreadsheet_name)\n",
    "processed_data = process_data(sheet_data)\n",
    "# save_results_with_xlwings(processed_data, file_name, spreadsheet_name)"
   ]
  },
  {
   "cell_type": "code",
   "execution_count": null,
   "id": "9eea0b32",
   "metadata": {},
   "outputs": [],
   "source": []
  },
  {
   "cell_type": "code",
   "execution_count": null,
   "id": "0589292a",
   "metadata": {},
   "outputs": [],
   "source": []
  }
 ],
 "metadata": {
  "kernelspec": {
   "display_name": "Python 3 (ipykernel)",
   "language": "python",
   "name": "python3"
  },
  "language_info": {
   "codemirror_mode": {
    "name": "ipython",
    "version": 3
   },
   "file_extension": ".py",
   "mimetype": "text/x-python",
   "name": "python",
   "nbconvert_exporter": "python",
   "pygments_lexer": "ipython3",
   "version": "3.11.5"
  }
 },
 "nbformat": 4,
 "nbformat_minor": 5
}
