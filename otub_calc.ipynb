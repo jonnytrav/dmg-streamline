{
 "cells": [
  {
   "cell_type": "code",
   "execution_count": 10,
   "id": "3c6117d3",
   "metadata": {},
   "outputs": [],
   "source": [
    "import pandas as pd\n",
    "import xlwings as xw"
   ]
  },
  {
   "cell_type": "code",
   "execution_count": 11,
   "id": "406328a9",
   "metadata": {},
   "outputs": [],
   "source": [
    "def get_data_with_xlwings(file_name, sheet_name):\n",
    "    wb = xw.Book(file_name)\n",
    "    sheet = wb.sheets[sheet_name]\n",
    "#     data = sheet.range('A1').options(pd.DataFrame, expand='table').value\n",
    "    data = sheet.range('A1').expand().value\n",
    "    wb.close()\n",
    "    return data"
   ]
  },
  {
   "cell_type": "code",
   "execution_count": 12,
   "id": "c1fbb3f3",
   "metadata": {},
   "outputs": [],
   "source": [
    "def get_pricing_matrix_path(service_type):\n",
    "    # Dictionary mapping service types to their respective spreadsheet filenames\n",
    "    service_type_to_file = {\n",
    "        \"FedEx First Overnight®\": \"path/to/ServiceType1.xlsx\",\n",
    "        \"FedEx Priority Overnight®\": \"path/to/ServiceType2.xlsx\",\n",
    "        \"FedEx Standard Overnight®\": \"path/to/ServiceType2.xlsx\",\n",
    "        \"FedEx 2Day® A.M.\": \"path/to/ServiceType2.xlsx\",\n",
    "        \"FedEx 2Day®\": \"path/to/ServiceType2.xlsx\",\n",
    "        \"FedEx Express Saver®\": \"path/to/ServiceType2.xlsx\",\n",
    "        \"Intra-Hawaii Standard List Rates\": \"path/to/ServiceType2.xlsx\",\n",
    "#         BEGIN MULTIWEIGHT PRICING MATRIX SECTION\n",
    "        \"FedEx First Overnight®\": \"path/to/ServiceType2.xlsx\",\n",
    "        \"FedEx Priority Overnight®\": \"path/to/ServiceType2.xlsx\",\n",
    "        \"FedEx Standard Overnight®\": \"path/to/ServiceType2.xlsx\",\n",
    "        \"FedEx 2Day® A.M.\": \"path/to/ServiceType2.xlsx\",\n",
    "        \"FedEx 2Day®\": \"path/to/ServiceType2.xlsx\",\n",
    "        \"FedEx Express Saver®\": \"path/to/ServiceType2.xlsx\",\n",
    "        \"Intra-Hawaii FedEx Priority Overnight®\": \"path/to/ServiceType2.xlsx\",\n",
    "#         END MULTIWEIGHT PRICING MATRIX SECTION\n",
    "        \"FedEx First Overnight® Freight\": \"path/to/ServiceType2.xlsx\",\n",
    "        \"FedEx 1Day® Freight\": \"path/to/ServiceType2.xlsx\",\n",
    "        \"FedEx 2Day® Freight\": \"path/to/ServiceType2.xlsx\",\n",
    "        \"FedEx 3Day® Freight\": \"path/to/ServiceType2.xlsx\",\n",
    "    }\n",
    "\n",
    "    if service_type in service_type_to_file:\n",
    "        file_name = service_type_to_file[service_type]\n",
    "        return file_name\n",
    "#         return pd.read_excel(file_name)\n",
    "    else:\n",
    "        # Handle cases where the service type does not have a corresponding file\n",
    "        return None"
   ]
  },
  {
   "cell_type": "code",
   "execution_count": 16,
   "id": "4a906f82",
   "metadata": {},
   "outputs": [],
   "source": [
    "# def process_data(data, pricing_matrix):\n",
    "def process_data(data):\n",
    "    # Assuming 'Service Type', 'Weight', and 'Zone' are column names in your data\n",
    "    # for index, row in data.iterrows():\n",
    "    print(data)\n",
    "#     for index, row in data:\n",
    "#         service_type = row['Service Type']\n",
    "#         get_pricing_matrix_path(service_type)\n",
    "#         weight = row['RW']  # or however your weight data is represented\n",
    "#         zone = row['Z']\n",
    "#         price = get_price(service_type, weight, zone, pricing_matrix)\n",
    "#         data.at[index, 'Calculated Price'] = price\n",
    "#         return data\n",
    "    return data"
   ]
  },
  {
   "cell_type": "code",
   "execution_count": 14,
   "id": "891c4997",
   "metadata": {},
   "outputs": [],
   "source": [
    "def save_results_with_xlwings(data, file_name, sheet_name):\n",
    "    wb = xw.Book(file_name)\n",
    "    ws = wb.sheets[sheet_name]\n",
    "    ws.range('A1').options(index=False).value = data  # Writing the DataFrame to the workbook\n",
    "    wb.save()\n",
    "    wb.close()"
   ]
  },
  {
   "cell_type": "code",
   "execution_count": 17,
   "id": "df464c33",
   "metadata": {},
   "outputs": [
    {
     "name": "stdout",
     "output_type": "stream",
     "text": [
      "[['Bill to Account Number', 'Invoice Date', 'Invoice Number', 'Store ID', 'Original Amount Due', 'Current Balance', 'Payor', 'Ground Tracking ID Prefix', 'Express or Ground Tracking ID', 'Service Type', 'QTY', 'RW', 'Z', 'AB', 'DS', 'ED', 'PP', 'GD', 'TPUB', 'INC$', 'INC%', 'TNET', 'OTPUB', 'OINC$', 'OINC%', 'OTNET', 'OMIN', 'SVGS', 'Ground Service', 'Shipment Date', 'POD Delivery Date', 'POD Delivery Time', 'POD Service Area Code', 'POD Signature Description', 'Actual Weight Amount', 'Actual Weight Units', 'Rated Weight Units', 'Bundle Number', 'Meter Number', 'TDMasterTrackingID', 'Service Packaging', 'L', 'W', 'H', 'DIM', 'DW', '?', 'Recipient Name', 'Recipient Company', 'Recipient Address Line 1', 'Recipient Address Line 2', 'Recipient City', 'Recipient State', 'Recipient Zip Code', 'Recipient Country/Territory', 'Shipper Company', 'Shipper Name', 'Shipper Address Line 1', 'Shipper Address Line 2', 'Shipper City', 'Shipper State', 'Shipper Zip Code', 'Shipper Country/Territory', 'Original Customer Reference', 'Original Ref#2', 'Original Ref#3/PO Number', 'Original Department Reference Description', 'Updated Customer Reference', 'Updated Ref#2', 'Updated Ref#3/PO Number', 'Updated Department Reference Description', 'RMA#', 'Original Recipient Address Line 1', 'Original Recipient Address Line 2', 'Original Recipient City', 'Original Recipient State', 'Original Recipient Zip Code', 'Original Recipient Country/Territory', 'Cost Allocation', 'Alternate Address Line 1', 'Alternate Address Line 2', 'Alternate City', 'Alternate State Province', 'Alternate Zip Code', 'Alternate Country/Territory Code', 'CrossRefTrackingID Prefix', 'CrossRefTrackingID', 'Entry Date', 'Entry Number', 'Customs Value', 'Customs Value Currency Code', 'Declared Value', 'Declared Value Currency Code', 'Commodity Description', 'Commodity Country/Territory Code', 'Commodity Description', 'Commodity Country/Territory Code', 'Commodity Description', 'Commodity Country/Territory Code', 'Commodity Description', 'Commodity Country/Territory Code', 'Currency Conversion Date', 'Currency Conversion Rate', 'Multiweight Number', 'Multiweight Total Multiweight Units', 'Multiweight Total Multiweight Weight', 'Multiweight Total Shipment Charge Amount', 'MWT', 'Fuel Surcharge', 'OFSC$', 'Late Fee_LF1-1', 'Third Party Billing', 'OTP$', 'Direct Signature', 'ODS$', 'Adult Signature', 'Print Return Label', 'Residential Delivery', 'ORES$', 'DAS Comm', 'ODASC$', 'DAS Extended Comm', 'ODASEC$', 'DAS Resi', 'ODAS$', 'DAS Extended Resi', 'ODASER$', 'Address Correction', 'Return On Call Surcharge', 'NDOC P/U- Auto Comm', 'ONDOCAC$'], [14612726.0, 20220704.0, 780810552.0, None, 1914.99, 0.0, 'Shipper', None, 544293134154.0, 'FedEx Priority Overnight', 1.0, 1.0, 2.0, None, -21.51, None, None, None, Decimal('34.14'), Decimal('21.51'), 0.6300527240773287, Decimal('12.63'), Decimal('34.14'), Decimal('18.2'), 0.5330990041007616, Decimal('15.94'), Decimal('15.94'), Decimal('3.31'), None, 20220624.0, 20220627.0, 0.37013888888888885, 'A2', 'J.BUEHLER', 1.0, 'L', 'L', None, 541241.0, None, 'FedEx Pak', None, None, None, None, None, None, 'mailroom', 'phillips, lytle, llp', 'one canalside', '125 main street', 'BUFFALO', 'NY', 142032887.0, 'US', 'Phillips Lytle LLP', None, '28 East Main St', 'STE 1400', 'ROCHESTER', 'NY', 146141935.0, 'US', '9999/buff mail/', None, None, None, None, None, None, None, None, '28 East Main St', 'STE 1400', 'Rochester', 'NY', 146141935.0, 'US', None, None, None, None, None, None, None, None, None, None, None, None, None, None, None, None, None, None, None, None, None, None, None, 20220624.0, None, 0.0, 0.0, 0.0, 0.0, 0.0, Decimal('2.97'), Decimal('3.258'), None, None, None, None, None, None, None, None, None, None, None, None, None, None, None, None, None, None, None, None, None], [14612726.0, 20220808.0, 784351011.0, None, 1567.13, 1567.13, 'Shipper', None, 544293134408.0, 'Ground', 1.0, 17.0, 2.0, None, None, -0.81, None, None, Decimal('4.86'), Decimal('0.81'), 0.16666666666666666, Decimal('4.05'), Decimal('4.86'), Decimal('0'), 0.0, Decimal('4.86'), Decimal('9.36'), Decimal('0.81'), 'Prepaid, Domestic', 20220727.0, 20220728.0, 0.5, None, None, 16.5, 'P', 'P', None, 541241.0, 544293134408.0, 'Customer Packaging', None, None, None, None, None, None, 'MAILROOM', 'PHILLIPS, LYTLE, LLP', '125 MAIN ST', 'ONE CANALSIDE', 'BUFFALO', 'NY', 142033070.0, 'US', 'Phillips Lytle LLP', None, '28 East Main St', None, 'Rochester', 'NY', 146141935.0, 'US', '99999/files/', None, None, None, None, None, None, None, None, None, None, None, None, None, None, None, None, None, None, None, None, None, None, None, None, None, None, None, None, None, None, None, None, None, None, None, None, None, 20220727.0, None, 28267480.0, 4.0, 442.0, 148.6, 442.0, Decimal('1.31'), Decimal('1.5283'), None, None, None, None, None, None, None, None, None, None, None, None, None, None, None, None, None, None, None, Decimal('3'), Decimal('3')]]\n"
     ]
    }
   ],
   "source": [
    "#BEGIN USING ABOVE FUNCTIONS\n",
    "file_name = './dmg_automation_sample_files.xlsx'\n",
    "spreadsheet_name = 'charges'\n",
    "data = get_data_with_xlwings(file_name, spreadsheet_name)\n",
    "# pricing_matrix = pd.read_excel('./separated_us_express_rates.xlsx', sheet_name='Found using locate_pricing_matrix()')\n",
    "# processed_data = process_data(data, pricing_matrix)\n",
    "processed_data = process_data(data)\n",
    "save_results_with_xlwings(processed_data, file_name, spreadsheet_name)"
   ]
  },
  {
   "cell_type": "code",
   "execution_count": null,
   "id": "dff52a89",
   "metadata": {},
   "outputs": [],
   "source": []
  }
 ],
 "metadata": {
  "kernelspec": {
   "display_name": "Python 3 (ipykernel)",
   "language": "python",
   "name": "python3"
  },
  "language_info": {
   "codemirror_mode": {
    "name": "ipython",
    "version": 3
   },
   "file_extension": ".py",
   "mimetype": "text/x-python",
   "name": "python",
   "nbconvert_exporter": "python",
   "pygments_lexer": "ipython3",
   "version": "3.11.5"
  }
 },
 "nbformat": 4,
 "nbformat_minor": 5
}
