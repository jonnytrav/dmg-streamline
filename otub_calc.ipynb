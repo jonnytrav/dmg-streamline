{
 "cells": [
  {
   "cell_type": "code",
   "execution_count": 1,
   "id": "3c6117d3",
   "metadata": {},
   "outputs": [],
   "source": [
    "import pandas as pd\n",
    "import xlwings as xw"
   ]
  },
  {
   "cell_type": "code",
   "execution_count": 2,
   "id": "406328a9",
   "metadata": {},
   "outputs": [],
   "source": [
    "def get_data_with_xlwings(file_name, sheet_name):\n",
    "    wb = xw.Book(file_name)\n",
    "    sheet = wb.sheets[sheet_name]\n",
    "    data = sheet.range('A1').options(pd.DataFrame, expand='table').value\n",
    "    wb.close()\n",
    "    return data"
   ]
  },
  {
   "cell_type": "code",
   "execution_count": 6,
   "id": "4a906f82",
   "metadata": {},
   "outputs": [],
   "source": [
    "def process_data(data):\n",
    "#     ENSURE HANDLING EXISTS FOR FedEx® Pak AND FedEx® Envelope up to 8 oz.\n",
    "#     MAY NEED TO SEPARATE PRICING FOR ZONES LISTED AS 9-10 AND 11-12 FOR SIMPLICITY OF CALC.\n",
    "    service_type_to_sheet_name = {\n",
    "        \"FedEx First Overnight\":\"FedEx First Overnight®\",\n",
    "        \"FedEx Priority Overnight\": \"FedEx Priority Overnight®\",\n",
    "        #         FedEx Standard Overnight DOES NOT HAVE DATA FOR ZONES 10-12\n",
    "        \"FedEx Standard Overnight\": \"FedEx Standard Overnight®\",\n",
    "        \"FedEx 2Day A.M.\": \"FedEx 2Day® A.M.\",\n",
    "        \"FedEx 2Day\": \"FedEx 2Day®\",\n",
    "        \"FedEx Express Saver\": \"FedEx Express Saver®\",\n",
    "        #   **************** INSPECT BELOW *********************\n",
    "        \"Intra-Hawaii Standard List Rates\": \"Intra-Hawaii Standard List Rate\",\n",
    "        \"FedEx First Overnight Freight\": \"MW FedEx First Overnight®\",\n",
    "        \"FedEx Priority Overnight\": \"MW FedEx Priority Overnight®\",\n",
    "        \"FedEx Standard Overnight\": \"MW FedEx Standard Overnight®\",\n",
    "        \"FedEx 2Day A.M.\": \"MW FedEx 2Day® A.M.\",\n",
    "        \"FedEx 2Day\": \"MW FedEx 2Day®\",\n",
    "        \"FedEx Express Saver\": \"MW FedEx Express Saver®\",\n",
    "        \"Intra-Hawaii FedEx Priority Overnight\": \"MWIntra-HawaiiFedExPriorityON\",\n",
    "        \"FedEx First Overnight® Freight\"\n",
    "        \"FedEx 1Day Freight\": \"FedEx 1Day® Freight\",\n",
    "        \"FedEx 2Day Freight\": \"FedEx 2Day® Freight\",\n",
    "        \"FedEx 3Day Freight\": \"FedEx 3Day® Freight\",\n",
    "        \"Ground\": \"FHD Ground\",\n",
    "        \"Ground Canada\": \"FHD Ground Canada\"\n",
    "    }\n",
    "    mw_service_type_to_sheet_name = {\n",
    "        \"FedEx First Overnight\": \"MW FedEx First Overnight®\",\n",
    "        \"FedEx Priority Overnight\": \"MW FedEx Priority Overnight®\",\n",
    "        \"FedEx Standard Overnight\": \"MW FedEx Standard Overnight®\",\n",
    "        \"FedEx 2Day A.M.\": \"MW FedEx 2Day® A.M.\",\n",
    "        \"FedEx 2Day\": \"MW FedEx 2Day®\",\n",
    "        \"FedEx Express Saver\": \"MW FedEx Express Saver®\",\n",
    "        \"Intra-Hawaii FedEx Priority Overnight\": \"MWIntra-HawaiiFedExPriorityON\",\n",
    "    }\n",
    "    \n",
    "#     FedEx Standard Overnight DOES NOT HAVE DATA FOR ZONES 10-12\n",
    "    rates_wb = xw.Book(\"./separated_us_express_rates.xlsx\")\n",
    "    pricing_matrices = {}\n",
    "    for service_type, sheet_name in service_type_to_sheet_name:\n",
    "#         STORE THE SHEET DATA AS A DATAFRAME TO USE IN NEXT FOR LOOP\n",
    "        \n",
    "#     for index, row in data.iterrows():\n",
    "# #         'index' CANNOT BE USED - ITS AN INVOICE NUMBER THAT REPEATS AND INDICES !ACCURATE\n",
    "#         weight = int(row['RW'])\n",
    "#         zone = int(row['Z'])\n",
    "#         service_type = row['Service Type']\n",
    "#         otpub = row['OTPUB']\n",
    "#         if service_type in service_type_to_sheet_name:\n",
    "#             if service_type == \"Ground\":\n",
    "#                 if row[\"Recipient Country/Territory\"] != \"US\":\n",
    "#                     pricing_matrix_data = rate_sheets[\"FHD Ground Canada\"].range(\"A1\").options(pd.DataFrame, expand='table').value\n",
    "#                     new_otpub = pricing_matrix_data.iloc[weight-1, zone-2]\n",
    "#                     otpub = new_otpub\n",
    "#                 else:\n",
    "#                     pricing_matrix_data = rates_wb.sheets[\"FHD Ground\"].range(\"A1\").options(pd.DataFrame, expand='table').value\n",
    "#                     new_otpub = pricing_matrix_data.iloc[weight-1, zone-2]\n",
    "#                     otpub = new_otpub\n",
    "#             else:  \n",
    "#                 pricing_matrix_data = rate_sheets[service_type_to_sheet_name[service_type]].range(\"A1\").options(pd.DataFrame, expand='table').value\n",
    "# #             BELOW CHANGES CELL TO COLOR RED TO EASILY LOCATE CELLS WE COULDN'T POPULATE\n",
    "# #             otpub.color = (255, 0, 0)  # RGB color for red\n",
    "#         else:\n",
    "# #             BELOW PRINTS ANY SERVICE TYPE FOR WHICH WE MAY HAVE NOT HAVE ANY HANDLING \n",
    "#             print(f'{service_type} not addressed!')\n",
    "    \n",
    "    rates_wb.close()\n",
    "#     AT THIS POINT, THE DATA MANIPULATED IS SIMPLY AN INSTANCE AND LATER WE MUST USE save_results_with_xlwings() FOR THE DATA\n",
    "#     TO PERSIST IN THE WORKBOOK\n",
    "    return data"
   ]
  },
  {
   "cell_type": "code",
   "execution_count": 4,
   "id": "891c4997",
   "metadata": {},
   "outputs": [],
   "source": [
    "def save_results_with_xlwings(data, file_name, sheet_name):\n",
    "    print(data)\n",
    "#     wb = xw.Book(file_name)\n",
    "#     ws = wb.sheets[sheet_name]\n",
    "#     ws.range('A1').options(index=False).value = data\n",
    "#     wb.save()\n",
    "#     wb.close()"
   ]
  },
  {
   "cell_type": "code",
   "execution_count": 5,
   "id": "df464c33",
   "metadata": {
    "scrolled": true
   },
   "outputs": [
    {
     "name": "stdout",
     "output_type": "stream",
     "text": [
      "<Sheet [separated_us_express_rates.xlsx]FedEx First Overnight®>\n",
      "<Sheet [separated_us_express_rates.xlsx]FedEx Priority Overnight®>\n",
      "<Sheet [separated_us_express_rates.xlsx]FedEx Standard Overnight®>\n",
      "<Sheet [separated_us_express_rates.xlsx]FedEx 2Day® A.M.>\n",
      "<Sheet [separated_us_express_rates.xlsx]FedEx 2Day®>\n",
      "<Sheet [separated_us_express_rates.xlsx]FedEx Express Saver®>\n",
      "<Sheet [separated_us_express_rates.xlsx]Intra-Hawaii Standard List Rate>\n",
      "<Sheet [separated_us_express_rates.xlsx]MW FedEx First Overnight®>\n",
      "<Sheet [separated_us_express_rates.xlsx]MW FedEx Priority Overnight®>\n",
      "<Sheet [separated_us_express_rates.xlsx]MW FedEx Standard Overnight®>\n",
      "<Sheet [separated_us_express_rates.xlsx]MW FedEx 2Day® A.M.>\n",
      "<Sheet [separated_us_express_rates.xlsx]MW FedEx 2Day®>\n",
      "<Sheet [separated_us_express_rates.xlsx]MW FedEx Express Saver®>\n",
      "<Sheet [separated_us_express_rates.xlsx]MWIntra-HawaiiFedExPriorityON>\n",
      "<Sheet [separated_us_express_rates.xlsx]FedEx First Overnight® Freight>\n",
      "<Sheet [separated_us_express_rates.xlsx]FedEx 1Day® Freight>\n",
      "<Sheet [separated_us_express_rates.xlsx]FedEx 2Day® Freight>\n",
      "<Sheet [separated_us_express_rates.xlsx]FedEx 3Day® Freight>\n",
      "<Sheet [separated_us_express_rates.xlsx]FHD Ground>\n",
      "<Sheet [separated_us_express_rates.xlsx]FHD Ground Canada>\n"
     ]
    }
   ],
   "source": [
    "#BEGIN MAIN SCRIPT USING ABOVE FUNCTIONS\n",
    "file_name = './charges.xlsm'\n",
    "spreadsheet_name = 'FREIGHT & ACCESSORIALS'\n",
    "sheet_data = get_data_with_xlwings(file_name, spreadsheet_name)\n",
    "processed_data = process_data(sheet_data)\n",
    "# save_results_with_xlwings(processed_data, file_name, spreadsheet_name)"
   ]
  },
  {
   "cell_type": "code",
   "execution_count": null,
   "id": "18e8aaec",
   "metadata": {},
   "outputs": [],
   "source": []
  },
  {
   "cell_type": "code",
   "execution_count": null,
   "id": "2808182e",
   "metadata": {},
   "outputs": [],
   "source": []
  }
 ],
 "metadata": {
  "kernelspec": {
   "display_name": "Python 3 (ipykernel)",
   "language": "python",
   "name": "python3"
  },
  "language_info": {
   "codemirror_mode": {
    "name": "ipython",
    "version": 3
   },
   "file_extension": ".py",
   "mimetype": "text/x-python",
   "name": "python",
   "nbconvert_exporter": "python",
   "pygments_lexer": "ipython3",
   "version": "3.11.5"
  }
 },
 "nbformat": 4,
 "nbformat_minor": 5
}
